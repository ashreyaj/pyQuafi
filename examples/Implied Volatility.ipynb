{
 "cells": [
  {
   "cell_type": "markdown",
   "metadata": {},
   "source": [
    "# Implied volatility of European options"
   ]
  },
  {
   "cell_type": "code",
   "execution_count": 34,
   "metadata": {},
   "outputs": [],
   "source": [
    "import numpy as np\n",
    "import matplotlib.pyplot as plt\n",
    "import matplotlib as mpl\n",
    "mpl.rcParams['figure.figsize'] = [4,3]\n",
    "mpl.rcParams['lines.linewidth'] = 2\n",
    "\n",
    "import sys\n",
    "sys.path.append('..')\n",
    "import pyQuafi.models.options as options"
   ]
  },
  {
   "cell_type": "markdown",
   "metadata": {},
   "source": [
    "## Introduction\n",
    "\n",
    "The implied volatility $\\sigma$ (IV) is the value of underlying's volatility for which the market price of an option is equal to that obtained using Black-Scholes pricing. IV is a measure of how the markets expect the underlying's value to change in the near future. The tendency of options prices to be higher when the underlying's value is more volatile is captured by IV.  \n",
    "\n",
    "Since it is not feasible to invert Black-Scholes formula to obtain implied volatility directly, we will use the iterative Newton-Raphson root finding method to calculate it."
   ]
  },
  {
   "cell_type": "code",
   "execution_count": null,
   "metadata": {},
   "outputs": [],
   "source": [
    "def impliedVolatility(S0, K, T, t, r, price_market, tol=1e-5):\n",
    "    sigma_guess = 0.2 # initial guess for Newton-Raphson method\n",
    "    max_iter = 500\n",
    "\n",
    "    i=0\n",
    "    converge = False\n",
    "    while not converge:\n",
    "\n",
    "        # Black-Scholes estimates\n",
    "        bs = options.BlackScholes(S0, K, T, t, r, sigma_guess)\n",
    "        price_bs = bs.call()\n",
    "        vega = bs.vega()\n",
    "\n",
    "        # Difference between BS and market price\n",
    "        price_diff = price_bs - price_market\n",
    "\n",
    "        # Newton-Raphson and new BS\n",
    "        sigma_new = sigma_guess - price_diff/vega\n",
    "        bs_new = options.BlackScholes(S0, K, T, t, r, sigma_guess)\n",
    "        price_bs_new = bs_new.call()\n",
    "\n",
    "        # Check convergence\n",
    "        if np.abs(price_bs_new - price_bs)<tol:\n",
    "            converge = True\n",
    "            \n",
    "        # Maximum iterations\n",
    "        if i > max_iter:\n",
    "            print(f\"Method did not converge with max_iter={max_iter}\")\n",
    "            break\n",
    "\n",
    "        sigma_guess = sigma_new\n",
    "        i += 1\n",
    "\n",
    "    sigma_implied = sigma_new\n",
    "    return sigma_implied"
   ]
  },
  {
   "cell_type": "markdown",
   "metadata": {},
   "source": [
    "## Variation of IV with strike price"
   ]
  },
  {
   "cell_type": "code",
   "execution_count": 50,
   "metadata": {},
   "outputs": [
    {
     "data": {
      "text/plain": [
       "Text(0, 0.5, 'Implied volatility $\\\\sigma$')"
      ]
     },
     "execution_count": 50,
     "metadata": {},
     "output_type": "execute_result"
    },
    {
     "data": {
      "image/png": "[encoded data removed]",
      "text/plain": [
       "<Figure size 400x300 with 1 Axes>"
      ]
     },
     "metadata": {},
     "output_type": "display_data"
    }
   ],
   "source": [
    "S0 = 30\n",
    "T = 0.5\n",
    "t = 0\n",
    "r = 0.05\n",
    "Ks = np.arange(25,35,0.1)\n",
    "\n",
    "price_market = 20.0\n",
    "sigmas_implied = np.zeros(len(Ks))\n",
    "for i, K in enumerate(Ks):\n",
    "    sigmas_implied[i] = impliedVolatility(S0, K, T, t, r, price_market)\n",
    "\n",
    "plt.plot(Ks,sigmas_implied)\n",
    "plt.plot(S0,impliedVolatility(S0, S0, T, t, r, price_market),'rd')\n",
    "plt.text(S0,impliedVolatility(S0, S0, T, t, r, price_market)+0.2,r'$S_0,\\sigma(S_0)$',c='r',ha='center')\n",
    "plt.xlabel('Strike price K')\n",
    "plt.ylabel(r'Implied volatility $\\sigma$')"
   ]
  },
  {
   "cell_type": "markdown",
   "metadata": {},
   "source": [
    "The above curve it often referred to as the _volatility smile_. This indicates that for a given maturity, options that are highly in the money or out of the money implies a larger volatility in the price of the underlying asset."
   ]
  },
  {
   "cell_type": "markdown",
   "metadata": {},
   "source": []
  }
 ],
 "metadata": {
  "kernelspec": {
   "display_name": "base",
   "language": "python",
   "name": "python3"
  },
  "language_info": {
   "codemirror_mode": {
    "name": "ipython",
    "version": 3
   },
   "file_extension": ".py",
   "mimetype": "text/x-python",
   "name": "python",
   "nbconvert_exporter": "python",
   "pygments_lexer": "ipython3",
   "version": "3.9.16"
  }
 },
 "nbformat": 4,
 "nbformat_minor": 2
}
